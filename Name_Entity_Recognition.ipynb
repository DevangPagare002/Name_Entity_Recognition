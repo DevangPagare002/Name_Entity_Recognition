{
 "cells": [
  {
   "cell_type": "markdown",
   "id": "617be6c9-aa85-4b5b-93ab-d2e5db52d2a4",
   "metadata": {},
   "source": [
    "### Open source library for NLP in Python"
   ]
  },
  {
   "cell_type": "markdown",
   "id": "9dc0b476-8ecf-4495-a0bc-6251322e5cbb",
   "metadata": {},
   "source": [
    "### What is NLTK?\n",
    "\n",
    "#### A suit of libraries and programs for symbolic and statistical NLP for English"
   ]
  },
  {
   "cell_type": "markdown",
   "id": "47196f7b-c30c-45e0-a44f-802f6abca8c6",
   "metadata": {},
   "source": [
    "### What is Spacy?"
   ]
  },
  {
   "cell_type": "markdown",
   "id": "6042e612-24e6-43e0-af42-4cc5d0ce5eb9",
   "metadata": {},
   "source": [
    "#### Free open-source library for NLP in python"
   ]
  },
  {
   "cell_type": "markdown",
   "id": "f4ab7db5-ae4b-4fe3-8f53-314ad4dc61e9",
   "metadata": {},
   "source": [
    "### NLTK vs Spacy"
   ]
  },
  {
   "cell_type": "markdown",
   "id": "3f180c3e-e32a-4b88-8079-040dd87b53fa",
   "metadata": {},
   "source": [
    "#### Spacy is better than NLTK in terms of Speed and Implementation"
   ]
  },
  {
   "cell_type": "code",
   "execution_count": 56,
   "id": "45a89941-4fd4-4876-b6f9-fe780702152d",
   "metadata": {
    "tags": []
   },
   "outputs": [],
   "source": [
    "import spacy"
   ]
  },
  {
   "cell_type": "markdown",
   "id": "adb2dd47-b8c3-4bed-9694-9296043086f8",
   "metadata": {},
   "source": [
    "#### Below code shows use of tokenizer. As the code below do not have any pipeline, we can only use tokenizer. "
   ]
  },
  {
   "cell_type": "code",
   "execution_count": 30,
   "id": "fdcfca62-1053-43db-9674-567d692b2ff5",
   "metadata": {
    "tags": []
   },
   "outputs": [
    {
     "name": "stdout",
     "output_type": "stream",
     "text": [
      "This\n",
      "is\n",
      "the\n",
      "text\n",
      "to\n",
      "check\n",
      "tokenizer\n"
     ]
    }
   ],
   "source": [
    "nlp = spacy.blank(\"en\")\n",
    "\n",
    "doc = nlp(\"This is the text to check tokenizer\")\n",
    "\n",
    "for token in doc:\n",
    "    print(token)"
   ]
  },
  {
   "cell_type": "code",
   "execution_count": 31,
   "id": "a48b1e9c-d098-44d2-97ba-fae2b4023b4e",
   "metadata": {
    "tags": []
   },
   "outputs": [],
   "source": [
    "nlp = spacy.load(\"en_core_web_sm\") # This is a pretrained model for english lang."
   ]
  },
  {
   "cell_type": "code",
   "execution_count": 32,
   "id": "884f6314-bb20-48dc-b052-61469a553169",
   "metadata": {
    "tags": []
   },
   "outputs": [
    {
     "data": {
      "text/plain": [
       "['tok2vec', 'tagger', 'parser', 'attribute_ruler', 'lemmatizer', 'ner']"
      ]
     },
     "execution_count": 32,
     "metadata": {},
     "output_type": "execute_result"
    }
   ],
   "source": [
    "nlp.pipe_names # Displaying number of models in pipeline."
   ]
  },
  {
   "cell_type": "markdown",
   "id": "cca1d66c-c6b9-4cea-b545-fbe1ddcd368f",
   "metadata": {},
   "source": [
    "#### Pipeline is basically a bunch of components. It comes after tokenizer. Even if your pipeline is brank, we get tokenizer component by default."
   ]
  },
  {
   "cell_type": "markdown",
   "id": "51a79b0c-e5c6-4c20-88a4-3eaa61c88a0c",
   "metadata": {},
   "source": [
    "### To see all the entities in the text - "
   ]
  },
  {
   "cell_type": "code",
   "execution_count": 33,
   "id": "f750ec02-83f0-4b47-94eb-8c0e08e613dc",
   "metadata": {
    "tags": []
   },
   "outputs": [
    {
     "name": "stdout",
     "output_type": "stream",
     "text": [
      "Tesla Inc | ORG | Companies, agencies, institutions, etc.\n",
      "$45 billion | MONEY | Monetary values, including unit\n"
     ]
    }
   ],
   "source": [
    "doc = nlp(\"Tesla Inc has aquired twitter for $45 billion\")\n",
    "\n",
    "for ent in doc.ents:\n",
    "    print(ent.text, \"|\", ent.label_, \"|\", spacy.explain(ent.label_))\n",
    "    \n",
    "# ent.text - entities in text form\n",
    "# ent.label_ - Entity label\n",
    "# spacy.explain() - to get complete explaination."
   ]
  },
  {
   "cell_type": "markdown",
   "id": "5126053a-4443-4b19-8df1-94f5dbcc106d",
   "metadata": {},
   "source": [
    "#### A much fancier way to represent it is - "
   ]
  },
  {
   "cell_type": "code",
   "execution_count": 34,
   "id": "dac04953-721b-4ca6-b9e8-ea34e6c7c5af",
   "metadata": {
    "tags": []
   },
   "outputs": [
    {
     "data": {
      "text/html": [
       "<span class=\"tex2jax_ignore\"><div class=\"entities\" style=\"line-height: 2.5; direction: ltr\">\n",
       "<mark class=\"entity\" style=\"background: #7aecec; padding: 0.45em 0.6em; margin: 0 0.25em; line-height: 1; border-radius: 0.35em;\">\n",
       "    Tesla Inc\n",
       "    <span style=\"font-size: 0.8em; font-weight: bold; line-height: 1; border-radius: 0.35em; vertical-align: middle; margin-left: 0.5rem\">ORG</span>\n",
       "</mark>\n",
       " has aquired twitter for \n",
       "<mark class=\"entity\" style=\"background: #e4e7d2; padding: 0.45em 0.6em; margin: 0 0.25em; line-height: 1; border-radius: 0.35em;\">\n",
       "    $45 billion\n",
       "    <span style=\"font-size: 0.8em; font-weight: bold; line-height: 1; border-radius: 0.35em; vertical-align: middle; margin-left: 0.5rem\">MONEY</span>\n",
       "</mark>\n",
       "</div></span>"
      ],
      "text/plain": [
       "<IPython.core.display.HTML object>"
      ]
     },
     "metadata": {},
     "output_type": "display_data"
    }
   ],
   "source": [
    "from spacy import displacy\n",
    "\n",
    "displacy.render(doc, style = \"ent\")"
   ]
  },
  {
   "cell_type": "markdown",
   "id": "fff006ed-b1dc-4e4b-a412-2d2306b5a2d8",
   "metadata": {},
   "source": [
    "#### Above text did not recognize Twitter as company, because spacy must be following some conventions to check for entities.\n",
    "\n",
    "#### So we will change the sentence a little bit"
   ]
  },
  {
   "cell_type": "code",
   "execution_count": 35,
   "id": "f3ca8768-6c48-4a42-977d-aebd1906e46d",
   "metadata": {
    "tags": []
   },
   "outputs": [
    {
     "name": "stdout",
     "output_type": "stream",
     "text": [
      "Tesla Inc | ORG | Companies, agencies, institutions, etc.\n",
      "Twitter Inc | ORG | Companies, agencies, institutions, etc.\n",
      "$45 billion | MONEY | Monetary values, including unit\n"
     ]
    }
   ],
   "source": [
    "doc = nlp(\"Tesla Inc has aquired Twitter Inc for $45 billion\")\n",
    "\n",
    "for ent in doc.ents:\n",
    "    print(ent.text, \"|\", ent.label_, \"|\", spacy.explain(ent.label_))"
   ]
  },
  {
   "cell_type": "code",
   "execution_count": 36,
   "id": "511bee14-ee0d-4f09-99c3-7c038fb29580",
   "metadata": {
    "tags": []
   },
   "outputs": [
    {
     "data": {
      "text/html": [
       "<span class=\"tex2jax_ignore\"><div class=\"entities\" style=\"line-height: 2.5; direction: ltr\">\n",
       "<mark class=\"entity\" style=\"background: #7aecec; padding: 0.45em 0.6em; margin: 0 0.25em; line-height: 1; border-radius: 0.35em;\">\n",
       "    Tesla Inc\n",
       "    <span style=\"font-size: 0.8em; font-weight: bold; line-height: 1; border-radius: 0.35em; vertical-align: middle; margin-left: 0.5rem\">ORG</span>\n",
       "</mark>\n",
       " has aquired \n",
       "<mark class=\"entity\" style=\"background: #7aecec; padding: 0.45em 0.6em; margin: 0 0.25em; line-height: 1; border-radius: 0.35em;\">\n",
       "    Twitter Inc\n",
       "    <span style=\"font-size: 0.8em; font-weight: bold; line-height: 1; border-radius: 0.35em; vertical-align: middle; margin-left: 0.5rem\">ORG</span>\n",
       "</mark>\n",
       " for \n",
       "<mark class=\"entity\" style=\"background: #e4e7d2; padding: 0.45em 0.6em; margin: 0 0.25em; line-height: 1; border-radius: 0.35em;\">\n",
       "    $45 billion\n",
       "    <span style=\"font-size: 0.8em; font-weight: bold; line-height: 1; border-radius: 0.35em; vertical-align: middle; margin-left: 0.5rem\">MONEY</span>\n",
       "</mark>\n",
       "</div></span>"
      ],
      "text/plain": [
       "<IPython.core.display.HTML object>"
      ]
     },
     "metadata": {},
     "output_type": "display_data"
    }
   ],
   "source": [
    "displacy.render(doc, style = \"ent\")"
   ]
  },
  {
   "cell_type": "markdown",
   "id": "e2201aaa-96f3-41b0-be51-ff8570d3b1d1",
   "metadata": {},
   "source": [
    "#### So this NER is searching for the word starting with capital letter followed by Inc and naming it as an ORG."
   ]
  },
  {
   "cell_type": "code",
   "execution_count": 37,
   "id": "83a21bd1-0fd0-441e-9951-131838384011",
   "metadata": {
    "tags": []
   },
   "outputs": [
    {
     "data": {
      "text/plain": [
       "['CARDINAL',\n",
       " 'DATE',\n",
       " 'EVENT',\n",
       " 'FAC',\n",
       " 'GPE',\n",
       " 'LANGUAGE',\n",
       " 'LAW',\n",
       " 'LOC',\n",
       " 'MONEY',\n",
       " 'NORP',\n",
       " 'ORDINAL',\n",
       " 'ORG',\n",
       " 'PERCENT',\n",
       " 'PERSON',\n",
       " 'PRODUCT',\n",
       " 'QUANTITY',\n",
       " 'TIME',\n",
       " 'WORK_OF_ART']"
      ]
     },
     "execution_count": 37,
     "metadata": {},
     "output_type": "execute_result"
    }
   ],
   "source": [
    "nlp.pipe_labels[\"ner\"] # These are the entities that this model can detect."
   ]
  },
  {
   "cell_type": "markdown",
   "id": "affda241-698f-48b4-a7f7-f97206311213",
   "metadata": {},
   "source": [
    "### Hugging face is also a very popular NLP library\n",
    "\n",
    "https://huggingface.co/dslim/bert-base-NER?text=My+name+is+Clara+and+I+live+in+Berkeley%2C+California."
   ]
  },
  {
   "cell_type": "markdown",
   "id": "163ff126-9082-4cc4-869c-3258f307a691",
   "metadata": {},
   "source": [
    "### Adding the entities in Spacy"
   ]
  },
  {
   "cell_type": "code",
   "execution_count": 52,
   "id": "413903b6-8677-4600-a412-60b3b5ccf9d0",
   "metadata": {
    "tags": []
   },
   "outputs": [
    {
     "name": "stdout",
     "output_type": "stream",
     "text": [
      "Tesla | ORG\n",
      "Twitter | PRODUCT\n",
      "$45 billion | MONEY\n"
     ]
    }
   ],
   "source": [
    "doc = nlp(\"Tesla has aquire Twitter in $45 billion\")\n",
    "\n",
    "for ent in doc.ents:\n",
    "    print(ent.text, \"|\", ent.label_)"
   ]
  },
  {
   "cell_type": "code",
   "execution_count": 53,
   "id": "728b4737-ef12-4159-813e-75df4d08db49",
   "metadata": {
    "tags": []
   },
   "outputs": [
    {
     "name": "stdout",
     "output_type": "stream",
     "text": [
      "Tesla\n"
     ]
    },
    {
     "data": {
      "text/plain": [
       "Tesla has aquire"
      ]
     },
     "execution_count": 53,
     "metadata": {},
     "output_type": "execute_result"
    }
   ],
   "source": [
    "# If I want to add Twitter : ORG as new entity in Spacy, we can do -\n",
    "# For that, we need to use span. \n",
    "\n",
    "print(doc[0]) # This is a token\n",
    "doc[0:3] # This is a span."
   ]
  },
  {
   "cell_type": "code",
   "execution_count": 54,
   "id": "de6cb83a-ff13-4a12-bcb6-43d3d9955e2d",
   "metadata": {
    "tags": []
   },
   "outputs": [],
   "source": [
    "from spacy.tokens import Span\n",
    "\n",
    "s1 = Span(doc, 3, 4, label=\"ORG\")\n",
    "\n",
    "doc.set_ents([s1], default = \"unmodified\")"
   ]
  },
  {
   "cell_type": "code",
   "execution_count": 55,
   "id": "9cee2075-729c-437c-80d1-fb4812ecac15",
   "metadata": {
    "tags": []
   },
   "outputs": [
    {
     "name": "stdout",
     "output_type": "stream",
     "text": [
      "Tesla | ORG\n",
      "Twitter | ORG\n",
      "$45 billion | MONEY\n"
     ]
    }
   ],
   "source": [
    "for ent in doc.ents:\n",
    "    print(ent.text, \"|\", ent.label_)"
   ]
  },
  {
   "cell_type": "code",
   "execution_count": null,
   "id": "26f3ec61-dce4-4eff-ac1c-13c4dc080e06",
   "metadata": {},
   "outputs": [],
   "source": []
  }
 ],
 "metadata": {
  "kernelspec": {
   "display_name": "Python 3 (ipykernel)",
   "language": "python",
   "name": "python3"
  },
  "language_info": {
   "codemirror_mode": {
    "name": "ipython",
    "version": 3
   },
   "file_extension": ".py",
   "mimetype": "text/x-python",
   "name": "python",
   "nbconvert_exporter": "python",
   "pygments_lexer": "ipython3",
   "version": "3.11.4"
  }
 },
 "nbformat": 4,
 "nbformat_minor": 5
}
